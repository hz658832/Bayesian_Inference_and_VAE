{
 "cells": [
  {
   "cell_type": "markdown",
   "id": "9b61a7e6-7263-4807-b1ec-5e39dd4a4159",
   "metadata": {},
   "source": [
    "# A. The Origin of the Inference Problem...\n",
    "\n",
    "## A.1 Working with distributions:\n",
    "\n",
    "1. $Conditional = \\frac{Joint}{Marginal}$, namely, $p(x|y) = \\frac{p(x,y)}{p(y)}$\n",
    "\n",
    "2. Product rule: $p(x, y, z) = p(x|y, z)p(y|z)p(z)$\n",
    "\n",
    "3. Sum rule: $p(y) = \\int p(x, y)$\n",
    "\n",
    "4. Law of total probability: \n",
    "- $p(x) = \\sum p(x|y)p(y)$\n",
    "- $p(x) = \\int p(x|y)p(y)dy$\n",
    "\n",
    "---\n",
    "## A.2 Bayes theorem\n",
    " \n",
    "$Posterior = \\frac{Likelihood \\cdot Prior}{Evidence (Normalization)}$\n",
    "$p(y|x) =  \\frac{p(x, y)}{p(x)} = \\frac{p(x|y)p(y)}{p(x)} = \\frac{p(x|y)p(y)}{\\int p(x|y)p(y)dy }$\n",
    "\n",
    "---\n",
    "## A.3 Inference with Bayesian framework\n",
    "### Problem: given i.i.d. data (measurements) $\\mathbf{z}=(z_1, ..., z_n)$ from distribution $p(z|\\theta)$, $\\mathbf{\\theta} = ?$\n",
    "With Bayes theorem:\n",
    "$p(\\theta | z) = \\frac{\\prod_{i=1}^np(z_i|\\theta)p(\\theta)}{\\int{\\prod_{i=1}^np(z_i|\\theta)p(\\theta)d\\theta}}$\n",
    "\n",
    "Generally, \n",
    "- $z$: set of observed variables (measurements, features u.a.)\n",
    "- $x$: set of hidden / latent variables (system states, parameters, class label, representations etc.)\n",
    "- $\\theta$: model parameters (weights of the linear model)\n",
    "***\n",
    "### Type I: Full Bayesian Inference (actually, there is not really a full bayesian inference :D......)\n",
    "Example from (generative) supervised learning: \n",
    "\n",
    "Training: $p(\\theta | X_{tr}, Y_{tr}) = \\frac{p(Y_{tr}|X_{tr}, \\theta)p(\\theta)}{\\int{p(Y_{tr} | X_{tr}, \\theta)p(\\theta)d\\theta}}$\n",
    "\n",
    "Testing: $p(y|x, X_{tr}, Y_{tr})=\\int{p(y|x, \\theta)p(\\theta | X_{tr}, Y_{tr})}$\n",
    "\n",
    "with:\n",
    "- $X_{tr}$: input data\n",
    "- $Y_{tr}$: labeled data\n",
    "- $x$: input data, which was not used for training\n",
    "- $y$: inference result using trained model with parameter (features) $\\theta$\n",
    "\n",
    "\n",
    "## Where is the problem? "
   ]
  },
  {
   "cell_type": "markdown",
   "id": "5053aaf8-72ee-4c03-ae90-0c7e0cf68bf6",
   "metadata": {},
   "source": [
    "## How to calculate the Evidence? \n",
    "## Can we calculate the Evidence in close form? \n",
    "\n",
    "=> In the setting of Full Bayesian Inference, the distribution of posterior can only be calculated in analytical form, <span style='background :yellow' > i.i.f. the $Likelihood$ and $Prior$ are conjugate, OR, if the $Posterori$ belongs to the same parametric family as $Prior$ (definition of confugate distributions). </span>\n",
    "\n",
    "$p(\\theta) \\in \\mathcal{A}(\\alpha)$, $p(z|\\theta) \\in \\mathcal{B}(y)$ ==> $p(\\theta | z) \\in \\mathcal{A}(\\alpha')$\n",
    "\n",
    "Why so? \n",
    "\n",
    "=> The Intuition: \n",
    "\n",
    "$p(\\theta|z) = \\frac{p(z|\\theta)p(\\theta)}{\\int p(z|\\theta)p(\\theta)d\\theta} \\propto p(z|\\theta)p(\\theta)$\n",
    "\n",
    "- Denominator is tractable since any distribution in $\\mathcal{A}$ is normalized, because it is a proper probabilistic distribution.\n",
    "- Actually, the most problems will be solved within MAP, which means no need to calculate normalization...\n",
    "- All we need is to compute $\\alpha'$, (parameterization of $\\mathcal{A}$)\n",
    "\n",
    "=> In this case Bayesian inference can be done in closed form.\n",
    "***"
   ]
  },
  {
   "cell_type": "markdown",
   "id": "e01041cc-2539-4732-907f-3acb2d19abb4",
   "metadata": {},
   "source": [
    "### Example: coin flipping\n",
    "- We have a coin which may be fair or not\n",
    "- The task is to estimate a probability $\\theta$ of landing heads up\n",
    "- Data $X = (x_1, ..., x_n)$, $n \\in \\{0, 1\\}$\n",
    "***\n",
    "Probabilistic model: $p(x, \\theta) = p(x|\\theta)p(\\theta)$\n",
    "We take $Bernoulli$ distribution $p(x|\\theta)=\\theta^x(1-\\theta)^{1-x}$ as $Likelihood$.\n",
    "\n",
    "<span style='background :red' > How to choose a $Prior$? </span>\n",
    "Regarding to this problem:\n",
    "- Correct domain: $\\theta \\in [0, 1]$\n",
    "- Include prior knowledge: a coin is most likely fair\n",
    "- inference complexity: use conjugate prior\n",
    "***"
   ]
  },
  {
   "cell_type": "markdown",
   "id": "7ab4b588",
   "metadata": {},
   "source": [
    "#### One solution: \n",
    "\n",
    "$Beta$-Distribution: $Beta(\\theta|a, b) = \\frac{1}{B(a,b)\\theta^{a-1}(1-\\theta)^{b-1}}$\n",
    "\n",
    "Checking:\n",
    "\n",
    "- $Likelihood$: $Bernoulli$ distribution $p(z|\\theta)=\\theta^z(1-\\theta)^{1-z}$ \n",
    "- $Prior$: $Beta(\\theta|a, b) = \\frac{1}{B(a,b)\\theta^{a-1}(1-\\theta)^{b-1}}$ = $C\\cdot \\theta^\\alpha(1-\\alpha)^\\beta$\n",
    "\n",
    "While inferencing: \n",
    "\n",
    "$p(\\theta | z) = C'\\cdot p(z|\\theta)p(\\theta) = C'\\cdot \\theta^z(1-\\theta)^{1-z}\\cdot \\frac{1}{B(a,b)}\\theta^{a-1}(1-\\theta)^{b-1}$\n",
    "\n",
    "=> $p(\\theta | z) = C'' \\cdot \\theta^{\\alpha'}(1-\\theta)^{\\beta'}$ => conjugate to $Prior$ in $Beta$ distribution.\n",
    "\n"
   ]
  },
  {
   "cell_type": "markdown",
   "id": "e7434a22",
   "metadata": {},
   "source": [
    "$p(\\theta | z) = C'' \\cdot \\theta^{\\alpha'}(1-\\theta)^{\\beta'}=$ \n",
    "\n",
    "$=\\frac{1}{Z}\\prod_{i=1}^n\\theta^{z_i}(1-\\theta)^{1-z_i}\\frac{1}{N(a,b)}\\theta^{a-1}(1-\\theta)^{b-1}=$\n",
    "\n",
    "$=\\frac{1}{Z'}\\theta^{a+\\sum_{i=1}^nz_i-1}(1-\\theta)^{b+n-\\sum_{i=1}^nz_i-1}==Beta(\\theta | a', b')$\n",
    "\n",
    "New parameters: \n",
    "- $a' = a + \\sum_{i=1}^nz_i$\n",
    "- $b' = b+n-\\sum_{i=1}^nz_i-1}$"
   ]
  },
  {
   "cell_type": "code",
   "execution_count": 1,
   "id": "eb766616-6ee5-4ee9-8868-3c5da9ed8089",
   "metadata": {},
   "outputs": [
    {
     "name": "stdout",
     "output_type": "stream",
     "text": [
      "Collecting package metadata (current_repodata.json): done\n",
      "Solving environment: done\n",
      "\n",
      "# All requested packages already installed.\n",
      "\n"
     ]
    }
   ],
   "source": [
    "!conda install -c conda-forge mkl-service aesara pymc3 -y"
   ]
  },
  {
   "cell_type": "code",
   "execution_count": 3,
   "id": "89d7eb7b",
   "metadata": {},
   "outputs": [
    {
     "name": "stdout",
     "output_type": "stream",
     "text": [
      "Collecting package metadata (current_repodata.json): done\n",
      "Solving environment: done\n",
      "\n",
      "## Package Plan ##\n",
      "\n",
      "  environment location: /home/haoming/anaconda3\n",
      "\n",
      "  added / updated specs:\n",
      "    - arviz\n",
      "\n",
      "\n",
      "The following packages will be downloaded:\n",
      "\n",
      "    package                    |            build\n",
      "    ---------------------------|-----------------\n",
      "    arviz-0.11.2               |     pyhd3eb1b0_0         1.3 MB\n",
      "    ca-certificates-2021.9.30  |       h06a4308_1         116 KB\n",
      "    certifi-2021.10.8          |   py37h06a4308_0         151 KB\n",
      "    ------------------------------------------------------------\n",
      "                                           Total:         1.6 MB\n",
      "\n",
      "The following packages will be SUPERSEDED by a higher-priority channel:\n",
      "\n",
      "  arviz              conda-forge::arviz-0.11.4-pyhd8ed1ab_0 --> pkgs/main::arviz-0.11.2-pyhd3eb1b0_0\n",
      "  ca-certificates    conda-forge::ca-certificates-2021.10.~ --> pkgs/main::ca-certificates-2021.9.30-h06a4308_1\n",
      "  certifi            conda-forge::certifi-2021.10.8-py37h8~ --> pkgs/main::certifi-2021.10.8-py37h06a4308_0\n",
      "  conda              conda-forge::conda-4.10.3-py37h89c186~ --> pkgs/main::conda-4.10.3-py37h06a4308_0\n",
      "\n",
      "\n",
      "\n",
      "Downloading and Extracting Packages\n",
      "ca-certificates-2021 | 116 KB    | ##################################### | 100% \n",
      "arviz-0.11.2         | 1.3 MB    | ##################################### | 100% \n",
      "certifi-2021.10.8    | 151 KB    | ##################################### | 100% \n",
      "Preparing transaction: done\n",
      "Verifying transaction: done\n",
      "Executing transaction: done\n"
     ]
    }
   ],
   "source": [
    "!conda install arviz -y"
   ]
  },
  {
   "cell_type": "code",
   "execution_count": 41,
   "id": "8e557dbb",
   "metadata": {},
   "outputs": [
    {
     "data": {
      "image/png": "[encoded data removed]",
      "text/plain": [
       "<Figure size 432x288 with 1 Axes>"
      ]
     },
     "metadata": {},
     "output_type": "display_data"
    }
   ],
   "source": [
    "import numpy as np\n",
    "import arviz as az\n",
    "import pymc3 as pm\n",
    "import theano\n",
    "import scipy.stats as scis\n",
    "import matplotlib.pyplot as plt\n",
    "import seaborn as sns\n",
    "\n",
    "sns.set_style(\n",
    "    style='darkgrid', \n",
    "    rc={'axes.facecolor': '.9', 'grid.color': '.8'}\n",
    ")\n",
    "sns.set_palette(palette='deep')\n",
    "sns_c = sns.color_palette(palette='deep')\n",
    "x = np.linspace(start=0,stop=1, num=300)\n",
    "\n",
    "\n",
    "fig, ax = plt.subplots()\n",
    "ax.plot(x, scis.gamma.pdf(x, a=1, scale=1/3), color=sns_c[3], label='gamma')\n",
    "ax.plot(x, scis.beta.pdf(x, a=5.0, b=5.0), color=sns_c[2], label='beta')\n",
    "ax.legend()\n",
    "ax.set(title=f'Gamma and Beta Density Function');\n"
   ]
  },
  {
   "cell_type": "code",
   "execution_count": 42,
   "id": "4dd74326-f1f2-444c-a2b3-63ae8f634384",
   "metadata": {},
   "outputs": [
    {
     "name": "stderr",
     "output_type": "stream",
     "text": [
      "Auto-assigning NUTS sampler...\n",
      "Initializing NUTS using jitter+adapt_diag...\n",
      "Sequential sampling (1 chains in 1 job)\n",
      "NUTS: [p1]\n"
     ]
    },
    {
     "data": {
      "text/html": [
       "\n",
       "    <div>\n",
       "        <style>\n",
       "            /* Turns off some styling */\n",
       "            progress {\n",
       "                /* gets rid of default border in Firefox and Opera. */\n",
       "                border: none;\n",
       "                /* Needs to be in here for Safari polyfill so background images work as expected. */\n",
       "                background-size: auto;\n",
       "            }\n",
       "            .progress-bar-interrupted, .progress-bar-interrupted::-webkit-progress-bar {\n",
       "                background: #F44336;\n",
       "            }\n",
       "        </style>\n",
       "      <progress value='3000' class='' max='3000' style='width:300px; height:20px; vertical-align: middle;'></progress>\n",
       "      100.00% [3000/3000 00:01<00:00 Sampling chain 0, 0 divergences]\n",
       "    </div>\n",
       "    "
      ],
      "text/plain": [
       "<IPython.core.display.HTML object>"
      ]
     },
     "metadata": {},
     "output_type": "display_data"
    },
    {
     "name": "stderr",
     "output_type": "stream",
     "text": [
      "Sampling 1 chain for 2_000 tune and 1_000 draw iterations (2_000 + 1_000 draws total) took 1 seconds.\n",
      "Only one chain was sampled, this makes it impossible to run some convergence checks\n"
     ]
    },
    {
     "data": {
      "text/html": [
       "\n",
       "    <div>\n",
       "        <style>\n",
       "            /* Turns off some styling */\n",
       "            progress {\n",
       "                /* gets rid of default border in Firefox and Opera. */\n",
       "                border: none;\n",
       "                /* Needs to be in here for Safari polyfill so background images work as expected. */\n",
       "                background-size: auto;\n",
       "            }\n",
       "            .progress-bar-interrupted, .progress-bar-interrupted::-webkit-progress-bar {\n",
       "                background: #F44336;\n",
       "            }\n",
       "        </style>\n",
       "      <progress value='1000' class='' max='1000' style='width:300px; height:20px; vertical-align: middle;'></progress>\n",
       "      100.00% [1000/1000 00:05<00:00]\n",
       "    </div>\n",
       "    "
      ],
      "text/plain": [
       "<IPython.core.display.HTML object>"
      ]
     },
     "metadata": {},
     "output_type": "display_data"
    },
    {
     "name": "stderr",
     "output_type": "stream",
     "text": [
      "Auto-assigning NUTS sampler...\n",
      "Initializing NUTS using jitter+adapt_diag...\n",
      "Sequential sampling (1 chains in 1 job)\n",
      "NUTS: [p2]\n"
     ]
    },
    {
     "data": {
      "text/html": [
       "\n",
       "    <div>\n",
       "        <style>\n",
       "            /* Turns off some styling */\n",
       "            progress {\n",
       "                /* gets rid of default border in Firefox and Opera. */\n",
       "                border: none;\n",
       "                /* Needs to be in here for Safari polyfill so background images work as expected. */\n",
       "                background-size: auto;\n",
       "            }\n",
       "            .progress-bar-interrupted, .progress-bar-interrupted::-webkit-progress-bar {\n",
       "                background: #F44336;\n",
       "            }\n",
       "        </style>\n",
       "      <progress value='3000' class='' max='3000' style='width:300px; height:20px; vertical-align: middle;'></progress>\n",
       "      100.00% [3000/3000 00:00<00:00 Sampling chain 0, 28 divergences]\n",
       "    </div>\n",
       "    "
      ],
      "text/plain": [
       "<IPython.core.display.HTML object>"
      ]
     },
     "metadata": {},
     "output_type": "display_data"
    },
    {
     "name": "stderr",
     "output_type": "stream",
     "text": [
      "Sampling 1 chain for 2_000 tune and 1_000 draw iterations (2_000 + 1_000 draws total) took 1 seconds.\n",
      "There were 28 divergences after tuning. Increase `target_accept` or reparameterize.\n",
      "Only one chain was sampled, this makes it impossible to run some convergence checks\n"
     ]
    },
    {
     "data": {
      "text/html": [
       "\n",
       "    <div>\n",
       "        <style>\n",
       "            /* Turns off some styling */\n",
       "            progress {\n",
       "                /* gets rid of default border in Firefox and Opera. */\n",
       "                border: none;\n",
       "                /* Needs to be in here for Safari polyfill so background images work as expected. */\n",
       "                background-size: auto;\n",
       "            }\n",
       "            .progress-bar-interrupted, .progress-bar-interrupted::-webkit-progress-bar {\n",
       "                background: #F44336;\n",
       "            }\n",
       "        </style>\n",
       "      <progress value='1000' class='' max='1000' style='width:300px; height:20px; vertical-align: middle;'></progress>\n",
       "      100.00% [1000/1000 00:05<00:00]\n",
       "    </div>\n",
       "    "
      ],
      "text/plain": [
       "<IPython.core.display.HTML object>"
      ]
     },
     "metadata": {},
     "output_type": "display_data"
    }
   ],
   "source": [
    "X1 = theano.shared(np.asarray([\n",
    "    1, 1, 0, 0, 0, 1, 1, 1, 1, 1,\n",
    "    0, 1, 0, 1, 0, 1, 0, 1, 1, 0,\n",
    "    1, 0, 1, 1, 1, 1, 1, 1, 1, 1,\n",
    "    1, 1, 1, 1, 1, 0, 0, 0, 1, 1,\n",
    "    0, 1, 0, 1, 1, 1, 0, 0, 1, 0,\n",
    "    0, 1, 1, 0, 1, 1, 1, 0, 0, 0,\n",
    "    1, 0, 1, 0, 0, 0, 0, 0, 0, 1,\n",
    "    1, 1, 1, 1, 0, 0, 0, 0, 0, 1,\n",
    "    0, 1, 1, 1, 0, 0, 1, 0, 1, 1,\n",
    "    1, 1, 1, 0, 0, 0, 1, 0, 1, 0\n",
    "]))\n",
    "\n",
    "with pm.Model() as coin_flipping1:\n",
    "    p = pm.Beta('p1', alpha=2.0, beta=2.0)\n",
    "    y = pm.Bernoulli('y1', p=p, observed=X1)\n",
    "    trace1 = pm.sample(1000, tune=2000, chains=1, cores=4, return_inferencedata=True)\n",
    "    # reset value to get the shape right\n",
    "    X1.set_value(np.asarray([0, 0, 0]))\n",
    "    ppc1 = pm.sample_posterior_predictive(trace1)\n",
    "\n",
    "X2 = theano.shared(np.asarray([0, 0, 0, 0, 0, 1, 1, 1]))\n",
    "with pm.Model() as coin_flipping2:\n",
    "    p = pm.Gamma('p2', alpha=1, beta=3, mu=0.5, sigma=0.5)\n",
    "    y = pm.Bernoulli('y2', p=p, observed=X2)\n",
    "    trace2 = pm.sample(1000, tune=2000, chains=1, cores=4, return_inferencedata=True)\n",
    "    # reset value to get the shape right\n",
    "    X2.set_value(np.asarray([0, 0, 0]))\n",
    "    ppc2 = pm.sample_posterior_predictive(trace2)\n",
    "    "
   ]
  },
  {
   "cell_type": "code",
   "execution_count": 43,
   "id": "b982d89a",
   "metadata": {},
   "outputs": [
    {
     "data": {
      "text/plain": [
       "<AxesSubplot:title={'center':'p1'}>"
      ]
     },
     "execution_count": 43,
     "metadata": {},
     "output_type": "execute_result"
    },
    {
     "data": {
      "image/png": "[encoded data removed]",
      "text/plain": [
       "<Figure size 432x288 with 1 Axes>"
      ]
     },
     "metadata": {},
     "output_type": "display_data"
    }
   ],
   "source": [
    "import arviz as az\n",
    "np.mean(ppc1['y1'].sum(axis=1)==3)\n",
    "az.plot_posterior(trace1, hdi_prob=0.99)"
   ]
  },
  {
   "cell_type": "code",
   "execution_count": 44,
   "id": "dc3dbf5d",
   "metadata": {},
   "outputs": [
    {
     "data": {
      "text/plain": [
       "<AxesSubplot:title={'center':'p2'}>"
      ]
     },
     "execution_count": 44,
     "metadata": {},
     "output_type": "execute_result"
    },
    {
     "data": {
      "image/png": "[encoded data removed]",
      "text/plain": [
       "<Figure size 432x288 with 1 Axes>"
      ]
     },
     "metadata": {},
     "output_type": "display_data"
    }
   ],
   "source": [
    "np.mean(ppc2['y2'].sum(axis=1)==3)\n",
    "az.plot_posterior(trace2, hdi_prob=0.99)"
   ]
  },
  {
   "cell_type": "code",
   "execution_count": 31,
   "id": "fdb5c001-b18a-4481-98df-ac12f8648ef0",
   "metadata": {},
   "outputs": [
    {
     "data": {
      "text/html": [
       "<div>\n",
       "<style scoped>\n",
       "    .dataframe tbody tr th:only-of-type {\n",
       "        vertical-align: middle;\n",
       "    }\n",
       "\n",
       "    .dataframe tbody tr th {\n",
       "        vertical-align: top;\n",
       "    }\n",
       "\n",
       "    .dataframe thead th {\n",
       "        text-align: right;\n",
       "    }\n",
       "</style>\n",
       "<table border=\"1\" class=\"dataframe\">\n",
       "  <thead>\n",
       "    <tr style=\"text-align: right;\">\n",
       "      <th></th>\n",
       "      <th>mean</th>\n",
       "      <th>sd</th>\n",
       "      <th>hdi_3%</th>\n",
       "      <th>hdi_97%</th>\n",
       "    </tr>\n",
       "  </thead>\n",
       "  <tbody>\n",
       "    <tr>\n",
       "      <th>p1</th>\n",
       "      <td>0.57</td>\n",
       "      <td>0.049</td>\n",
       "      <td>0.481</td>\n",
       "      <td>0.66</td>\n",
       "    </tr>\n",
       "  </tbody>\n",
       "</table>\n",
       "</div>"
      ],
      "text/plain": [
       "    mean     sd  hdi_3%  hdi_97%\n",
       "p1  0.57  0.049   0.481     0.66"
      ]
     },
     "execution_count": 31,
     "metadata": {},
     "output_type": "execute_result"
    }
   ],
   "source": [
    "import arviz as az\n",
    "az.summary(trace1, kind=\"stats\")\n"
   ]
  },
  {
   "cell_type": "code",
   "execution_count": 32,
   "id": "2de8ea68-265c-48e4-8d23-564ec1500cbb",
   "metadata": {},
   "outputs": [
    {
     "data": {
      "text/html": [
       "<div>\n",
       "<style scoped>\n",
       "    .dataframe tbody tr th:only-of-type {\n",
       "        vertical-align: middle;\n",
       "    }\n",
       "\n",
       "    .dataframe tbody tr th {\n",
       "        vertical-align: top;\n",
       "    }\n",
       "\n",
       "    .dataframe thead th {\n",
       "        text-align: right;\n",
       "    }\n",
       "</style>\n",
       "<table border=\"1\" class=\"dataframe\">\n",
       "  <thead>\n",
       "    <tr style=\"text-align: right;\">\n",
       "      <th></th>\n",
       "      <th>mean</th>\n",
       "      <th>sd</th>\n",
       "      <th>hdi_3%</th>\n",
       "      <th>hdi_97%</th>\n",
       "    </tr>\n",
       "  </thead>\n",
       "  <tbody>\n",
       "    <tr>\n",
       "      <th>p2</th>\n",
       "      <td>0.321</td>\n",
       "      <td>0.147</td>\n",
       "      <td>0.082</td>\n",
       "      <td>0.584</td>\n",
       "    </tr>\n",
       "  </tbody>\n",
       "</table>\n",
       "</div>"
      ],
      "text/plain": [
       "     mean     sd  hdi_3%  hdi_97%\n",
       "p2  0.321  0.147   0.082    0.584"
      ]
     },
     "execution_count": 32,
     "metadata": {},
     "output_type": "execute_result"
    }
   ],
   "source": [
    "az.summary(trace2, kind=\"stats\")"
   ]
  },
  {
   "cell_type": "markdown",
   "id": "51dcd5cd",
   "metadata": {},
   "source": [
    "## What to do if there is no conjugacy or conjugacy is unknown?\n",
    "\n",
    "## Simplest way: approximate posterior with\n",
    "\n",
    "### - Markov Chain Monte Carlo (MCMC)\n",
    "### - Variational Bayesian Inference (VBI)"
   ]
  },
  {
   "cell_type": "code",
   "execution_count": null,
   "id": "d2e82d7f",
   "metadata": {},
   "outputs": [],
   "source": []
  }
 ],
 "metadata": {
  "kernelspec": {
   "display_name": "Python 3",
   "language": "python",
   "name": "python3"
  },
  "language_info": {
   "codemirror_mode": {
    "name": "ipython",
    "version": 3
   },
   "file_extension": ".py",
   "mimetype": "text/x-python",
   "name": "python",
   "nbconvert_exporter": "python",
   "pygments_lexer": "ipython3",
   "version": "3.7.7"
  }
 },
 "nbformat": 4,
 "nbformat_minor": 5
}
